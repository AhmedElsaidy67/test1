{
  "nbformat": 4,
  "nbformat_minor": 0,
  "metadata": {
    "colab": {
      "private_outputs": true,
      "provenance": [],
      "authorship_tag": "ABX9TyPAkX3+9IjVEEIDt7ebGk9e",
      "include_colab_link": true
    },
    "kernelspec": {
      "name": "python3",
      "display_name": "Python 3"
    },
    "language_info": {
      "name": "python"
    },
    "accelerator": "GPU",
    "gpuClass": "standard"
  },
  "cells": [
    {
      "cell_type": "markdown",
      "metadata": {
        "id": "view-in-github",
        "colab_type": "text"
      },
      "source": [
        "<a href=\"https://colab.research.google.com/github/AhmedElsaidy67/test1/blob/master/huggingface.ipynb\" target=\"_parent\"><img src=\"https://colab.research.google.com/assets/colab-badge.svg\" alt=\"Open In Colab\"/></a>"
      ]
    },
    {
      "cell_type": "code",
      "execution_count": null,
      "metadata": {
        "id": "zlqkGpflxczC"
      },
      "outputs": [],
      "source": [
        "!pip install diffusers transformers\n",
        "from diffusers import DiffusionPipeline\n",
        "from matplotlib import pyplot as plt\n",
        "from PIL import Image"
      ]
    },
    {
      "cell_type": "code",
      "source": [
        "model_id = \"CompVis/ldm-text2im-large-256\"\n",
        "ldm = DiffusionPipeline.from_pretrained(model_id)\n"
      ],
      "metadata": {
        "id": "mNnaVpkDx9Vx"
      },
      "execution_count": null,
      "outputs": []
    },
    {
      "cell_type": "code",
      "source": [
        "# run pipeline in inference (sample random noise and denoise)\n",
        "prompt = \"spiderman fight batman\"\n",
        "images = ldm([prompt], num_inference_steps=50, eta=0.3, guidance_scale=6).images\n"
      ],
      "metadata": {
        "id": "ZNJJbc8dx_4U"
      },
      "execution_count": null,
      "outputs": []
    },
    {
      "cell_type": "code",
      "source": [
        "# save images\n",
        "for idx, image in enumerate(images):\n",
        "    image.save(f\"squirrel-{idx}.png\")"
      ],
      "metadata": {
        "id": "1Ejlkh77yDM0"
      },
      "execution_count": null,
      "outputs": []
    },
    {
      "cell_type": "code",
      "source": [
        "plt.imshow(images[0])\n"
      ],
      "metadata": {
        "id": "R2V9C0g5yGga"
      },
      "execution_count": null,
      "outputs": []
    }
  ]
}